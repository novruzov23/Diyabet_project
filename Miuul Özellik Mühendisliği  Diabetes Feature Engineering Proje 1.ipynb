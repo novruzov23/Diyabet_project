{
 "cells": [
  {
   "cell_type": "code",
   "execution_count": 1,
   "id": "e13461c7",
   "metadata": {},
   "outputs": [],
   "source": [
    "import numpy as np\n",
    "import pandas as pd\n",
    "import seaborn as sns\n",
    "from matplotlib import  pyplot as plt\n",
    "import missingno as msno\n",
    "from datetime import date\n",
    "from sklearn.metrics import accuracy_score\n",
    "from sklearn.model_selection import train_test_split\n",
    "from sklearn.neighbors import LocalOutlierFactor\n",
    "from sklearn.preprocessing import MinMaxScaler, LabelEncoder, StandardScaler, RobustScaler\n"
   ]
  },
  {
   "cell_type": "code",
   "execution_count": 2,
   "id": "44f1a335",
   "metadata": {},
   "outputs": [],
   "source": [
    "df=pd.read_csv('diabetes.csv')"
   ]
  },
  {
   "cell_type": "code",
   "execution_count": 3,
   "id": "a48a47da",
   "metadata": {},
   "outputs": [
    {
     "data": {
      "text/html": [
       "<div>\n",
       "<style scoped>\n",
       "    .dataframe tbody tr th:only-of-type {\n",
       "        vertical-align: middle;\n",
       "    }\n",
       "\n",
       "    .dataframe tbody tr th {\n",
       "        vertical-align: top;\n",
       "    }\n",
       "\n",
       "    .dataframe thead th {\n",
       "        text-align: right;\n",
       "    }\n",
       "</style>\n",
       "<table border=\"1\" class=\"dataframe\">\n",
       "  <thead>\n",
       "    <tr style=\"text-align: right;\">\n",
       "      <th></th>\n",
       "      <th>Pregnancies</th>\n",
       "      <th>Glucose</th>\n",
       "      <th>BloodPressure</th>\n",
       "      <th>SkinThickness</th>\n",
       "      <th>Insulin</th>\n",
       "      <th>BMI</th>\n",
       "      <th>DiabetesPedigreeFunction</th>\n",
       "      <th>Age</th>\n",
       "      <th>Outcome</th>\n",
       "    </tr>\n",
       "  </thead>\n",
       "  <tbody>\n",
       "    <tr>\n",
       "      <th>0</th>\n",
       "      <td>6</td>\n",
       "      <td>148</td>\n",
       "      <td>72</td>\n",
       "      <td>35</td>\n",
       "      <td>0</td>\n",
       "      <td>33.6</td>\n",
       "      <td>0.627</td>\n",
       "      <td>50</td>\n",
       "      <td>1</td>\n",
       "    </tr>\n",
       "    <tr>\n",
       "      <th>1</th>\n",
       "      <td>1</td>\n",
       "      <td>85</td>\n",
       "      <td>66</td>\n",
       "      <td>29</td>\n",
       "      <td>0</td>\n",
       "      <td>26.6</td>\n",
       "      <td>0.351</td>\n",
       "      <td>31</td>\n",
       "      <td>0</td>\n",
       "    </tr>\n",
       "    <tr>\n",
       "      <th>2</th>\n",
       "      <td>8</td>\n",
       "      <td>183</td>\n",
       "      <td>64</td>\n",
       "      <td>0</td>\n",
       "      <td>0</td>\n",
       "      <td>23.3</td>\n",
       "      <td>0.672</td>\n",
       "      <td>32</td>\n",
       "      <td>1</td>\n",
       "    </tr>\n",
       "    <tr>\n",
       "      <th>3</th>\n",
       "      <td>1</td>\n",
       "      <td>89</td>\n",
       "      <td>66</td>\n",
       "      <td>23</td>\n",
       "      <td>94</td>\n",
       "      <td>28.1</td>\n",
       "      <td>0.167</td>\n",
       "      <td>21</td>\n",
       "      <td>0</td>\n",
       "    </tr>\n",
       "    <tr>\n",
       "      <th>4</th>\n",
       "      <td>0</td>\n",
       "      <td>137</td>\n",
       "      <td>40</td>\n",
       "      <td>35</td>\n",
       "      <td>168</td>\n",
       "      <td>43.1</td>\n",
       "      <td>2.288</td>\n",
       "      <td>33</td>\n",
       "      <td>1</td>\n",
       "    </tr>\n",
       "  </tbody>\n",
       "</table>\n",
       "</div>"
      ],
      "text/plain": [
       "   Pregnancies  Glucose  BloodPressure  SkinThickness  Insulin   BMI   \n",
       "0            6      148             72             35        0  33.6  \\\n",
       "1            1       85             66             29        0  26.6   \n",
       "2            8      183             64              0        0  23.3   \n",
       "3            1       89             66             23       94  28.1   \n",
       "4            0      137             40             35      168  43.1   \n",
       "\n",
       "   DiabetesPedigreeFunction  Age  Outcome  \n",
       "0                     0.627   50        1  \n",
       "1                     0.351   31        0  \n",
       "2                     0.672   32        1  \n",
       "3                     0.167   21        0  \n",
       "4                     2.288   33        1  "
      ]
     },
     "execution_count": 3,
     "metadata": {},
     "output_type": "execute_result"
    }
   ],
   "source": [
    "df.head()"
   ]
  },
  {
   "cell_type": "code",
   "execution_count": 68,
   "id": "ce11cfc8",
   "metadata": {},
   "outputs": [
    {
     "name": "stdout",
     "output_type": "stream",
     "text": [
      "########### head ########\n",
      "   PREGNANCIES  GLUCOSE  BLOODPRESSURE  SKINTHICKNESS  INSULIN   BMI   \n",
      "0            6      148             72             35        0  33.6  \\\n",
      "1            1       85             66             29        0  26.6   \n",
      "2            8      183             64              0        0  23.3   \n",
      "3            1       89             66             23       94  28.1   \n",
      "4            0      137             40             35      168  43.1   \n",
      "\n",
      "   DIABETESPEDIGREEFUNCTION  AGE  OUTCOME  \n",
      "0                     0.627   50        1  \n",
      "1                     0.351   31        0  \n",
      "2                     0.672   32        1  \n",
      "3                     0.167   21        0  \n",
      "4                     2.288   33        1  \n",
      "########### shape #################\n",
      "(768, 9)\n",
      "########## isnull.sum ########\n",
      "PREGNANCIES                 0\n",
      "GLUCOSE                     0\n",
      "BLOODPRESSURE               0\n",
      "SKINTHICKNESS               0\n",
      "INSULIN                     0\n",
      "BMI                         0\n",
      "DIABETESPEDIGREEFUNCTION    0\n",
      "AGE                         0\n",
      "OUTCOME                     0\n",
      "dtype: int64\n",
      "########## describe #########\n",
      "                          count        mean         std     min       25%   \n",
      "PREGNANCIES               768.0    3.845052    3.369578   0.000   1.00000  \\\n",
      "GLUCOSE                   768.0  120.894531   31.972618   0.000  99.00000   \n",
      "BLOODPRESSURE             768.0   69.105469   19.355807   0.000  62.00000   \n",
      "SKINTHICKNESS             768.0   20.536458   15.952218   0.000   0.00000   \n",
      "INSULIN                   768.0   79.799479  115.244002   0.000   0.00000   \n",
      "BMI                       768.0   31.992578    7.884160   0.000  27.30000   \n",
      "DIABETESPEDIGREEFUNCTION  768.0    0.471876    0.331329   0.078   0.24375   \n",
      "AGE                       768.0   33.240885   11.760232  21.000  24.00000   \n",
      "OUTCOME                   768.0    0.348958    0.476951   0.000   0.00000   \n",
      "\n",
      "                               50%        75%     max  \n",
      "PREGNANCIES                 3.0000    6.00000   17.00  \n",
      "GLUCOSE                   117.0000  140.25000  199.00  \n",
      "BLOODPRESSURE              72.0000   80.00000  122.00  \n",
      "SKINTHICKNESS              23.0000   32.00000   99.00  \n",
      "INSULIN                    30.5000  127.25000  846.00  \n",
      "BMI                        32.0000   36.60000   67.10  \n",
      "DIABETESPEDIGREEFUNCTION    0.3725    0.62625    2.42  \n",
      "AGE                        29.0000   41.00000   81.00  \n",
      "OUTCOME                     0.0000    1.00000    1.00  \n",
      "############ info #############\n",
      "<class 'pandas.core.frame.DataFrame'>\n",
      "RangeIndex: 768 entries, 0 to 767\n",
      "Data columns (total 9 columns):\n",
      " #   Column                    Non-Null Count  Dtype  \n",
      "---  ------                    --------------  -----  \n",
      " 0   PREGNANCIES               768 non-null    int64  \n",
      " 1   GLUCOSE                   768 non-null    int64  \n",
      " 2   BLOODPRESSURE             768 non-null    int64  \n",
      " 3   SKINTHICKNESS             768 non-null    int64  \n",
      " 4   INSULIN                   768 non-null    int64  \n",
      " 5   BMI                       768 non-null    float64\n",
      " 6   DIABETESPEDIGREEFUNCTION  768 non-null    float64\n",
      " 7   AGE                       768 non-null    int64  \n",
      " 8   OUTCOME                   768 non-null    int64  \n",
      "dtypes: float64(2), int64(7)\n",
      "memory usage: 54.1 KB\n",
      "None\n",
      "############## dtype ############\n",
      "PREGNANCIES                   int64\n",
      "GLUCOSE                       int64\n",
      "BLOODPRESSURE                 int64\n",
      "SKINTHICKNESS                 int64\n",
      "INSULIN                       int64\n",
      "BMI                         float64\n",
      "DIABETESPEDIGREEFUNCTION    float64\n",
      "AGE                           int64\n",
      "OUTCOME                       int64\n",
      "dtype: object\n",
      "########### tail ###########\n",
      "     PREGNANCIES  GLUCOSE  BLOODPRESSURE  SKINTHICKNESS  INSULIN   BMI   \n",
      "763           10      101             76             48      180  32.9  \\\n",
      "764            2      122             70             27        0  36.8   \n",
      "765            5      121             72             23      112  26.2   \n",
      "766            1      126             60              0        0  30.1   \n",
      "767            1       93             70             31        0  30.4   \n",
      "\n",
      "     DIABETESPEDIGREEFUNCTION  AGE  OUTCOME  \n",
      "763                     0.171   63        0  \n",
      "764                     0.340   27        0  \n",
      "765                     0.245   30        0  \n",
      "766                     0.349   47        1  \n",
      "767                     0.315   23        0  \n",
      "############# columns ##########\n",
      "Index(['PREGNANCIES', 'GLUCOSE', 'BLOODPRESSURE', 'SKINTHICKNESS', 'INSULIN',\n",
      "       'BMI', 'DIABETESPEDIGREEFUNCTION', 'AGE', 'OUTCOME'],\n",
      "      dtype='object')\n"
     ]
    }
   ],
   "source": [
    "# Adım 1: Genel resmi inceleyiniz.\n",
    "def veri(data):\n",
    "    print('########### head ########')\n",
    "    print(data.head())\n",
    "    print('########### shape #################')\n",
    "    print(data.shape)\n",
    "    print('########## isnull.sum ########')\n",
    "    print(data.isnull().sum())\n",
    "    print('########## describe #########')\n",
    "    print(data.describe().T)\n",
    "    print('############ info #############')\n",
    "    print(data.info())\n",
    "    print('############## dtype ############')\n",
    "    print(data.dtypes)\n",
    "    print('########### tail ###########')\n",
    "    print(data.tail())\n",
    "    print('############# columns ##########')\n",
    "    print(data.columns)\n",
    "\n",
    "veri(df)"
   ]
  },
  {
   "cell_type": "code",
   "execution_count": 71,
   "id": "7e1d52f7",
   "metadata": {},
   "outputs": [],
   "source": [
    "# Adım 2: Numerik ve kategorik değişkenleri yakalayınız.\n",
    "def grab_col(data,cat_th=5,car_th=20):\n",
    "    # categorik\n",
    "    cat_cols=[col for col in data.columns if data[col].dtypes =='O' ]\n",
    "    num_but_cat=[col for col in data.columns if data[col].nunique() < cat_th and data[col].dtypes !='O' ]\n",
    "    cat_but_car =[col for col in data.columns if data[col].nunique() > car_th and data[col].dtypes =='O']\n",
    "    cat_cols=cat_cols + num_but_cat\n",
    "    cat_cols=[col for col in cat_cols if col not in cat_but_car]\n",
    "    \n",
    "     # Numerik \n",
    "    num_cols=[col for col in data.columns if data[col].dtypes !='O']\n",
    "    num_cols = [col for col in num_cols if col not in num_but_cat]\n",
    "    \n",
    "    \n",
    "    \n",
    "    print(f'Gozlem Sayisi: {data.shape[0]}')\n",
    "    print(f'Deyisken Sayisi: {data.shape[1]}')\n",
    "    print(f'Kategorik Deyisken: {len(cat_cols)}')\n",
    "    print(f'Sayısal Görünümlü Kategorik Değişkenler: {len(num_but_cat)}')\n",
    "    print(f'Kardinalitesi Yüksek Değişkenler: {len(cat_but_car)}')\n",
    "    print(f'Sayısal Değişkenler: {len(num_cols)}')\n",
    "    \n",
    "    return cat_cols, num_cols, cat_but_car\n"
   ]
  },
  {
   "cell_type": "code",
   "execution_count": 72,
   "id": "2e8c6cb0",
   "metadata": {},
   "outputs": [
    {
     "name": "stdout",
     "output_type": "stream",
     "text": [
      "Gozlem Sayisi: 768\n",
      "Deyisken Sayisi: 9\n",
      "Kategorik Deyisken: 1\n",
      "Sayısal Görünümlü Kategorik Değişkenler: 1\n",
      "Kardinalitesi Yüksek Değişkenler: 0\n",
      "Sayısal Değişkenler: 8\n"
     ]
    }
   ],
   "source": [
    "cat_cols, num_cols, cat_but_car=grab_col(df)"
   ]
  },
  {
   "cell_type": "code",
   "execution_count": 28,
   "id": "c855775e",
   "metadata": {},
   "outputs": [
    {
     "data": {
      "text/plain": [
       "['OUTCOME']"
      ]
     },
     "execution_count": 28,
     "metadata": {},
     "output_type": "execute_result"
    }
   ],
   "source": [
    "cat_cols"
   ]
  },
  {
   "cell_type": "code",
   "execution_count": 29,
   "id": "a4683e92",
   "metadata": {},
   "outputs": [
    {
     "data": {
      "text/plain": [
       "['PREGNANCIES',\n",
       " 'GLUCOSE',\n",
       " 'BLOODPRESSURE',\n",
       " 'SKINTHICKNESS',\n",
       " 'INSULIN',\n",
       " 'BMI',\n",
       " 'DIABETESPEDIGREEFUNCTION',\n",
       " 'AGE']"
      ]
     },
     "execution_count": 29,
     "metadata": {},
     "output_type": "execute_result"
    }
   ],
   "source": [
    "num_cols"
   ]
  },
  {
   "cell_type": "code",
   "execution_count": 35,
   "id": "1890eeb5",
   "metadata": {},
   "outputs": [],
   "source": [
    "# Adım 3.1: Numerik değişkenlerin analizini yapınız\n",
    "def number(data, num_col):\n",
    "    quantiles=[0.05, 0.10, 0.20, 0.30, 0.40, 0.50, 0.60, 0.70, 0.80, 0.90, 0.95, 0.99]\n",
    "    print(data[num_col].describe(quantiles))"
   ]
  },
  {
   "cell_type": "code",
   "execution_count": 36,
   "id": "f570a648",
   "metadata": {},
   "outputs": [
    {
     "name": "stdout",
     "output_type": "stream",
     "text": [
      "count    768.000000\n",
      "mean       3.845052\n",
      "std        3.369578\n",
      "min        0.000000\n",
      "5%         0.000000\n",
      "10%        0.000000\n",
      "20%        1.000000\n",
      "30%        1.000000\n",
      "40%        2.000000\n",
      "50%        3.000000\n",
      "60%        4.000000\n",
      "70%        5.000000\n",
      "80%        7.000000\n",
      "90%        9.000000\n",
      "95%       10.000000\n",
      "99%       13.000000\n",
      "max       17.000000\n",
      "Name: PREGNANCIES, dtype: float64\n",
      "count    768.000000\n",
      "mean     120.894531\n",
      "std       31.972618\n",
      "min        0.000000\n",
      "5%        79.000000\n",
      "10%       85.000000\n",
      "20%       95.000000\n",
      "30%      102.000000\n",
      "40%      109.000000\n",
      "50%      117.000000\n",
      "60%      125.000000\n",
      "70%      134.000000\n",
      "80%      147.000000\n",
      "90%      167.000000\n",
      "95%      181.000000\n",
      "99%      196.000000\n",
      "max      199.000000\n",
      "Name: GLUCOSE, dtype: float64\n",
      "count    768.000000\n",
      "mean      69.105469\n",
      "std       19.355807\n",
      "min        0.000000\n",
      "5%        38.700000\n",
      "10%       54.000000\n",
      "20%       60.000000\n",
      "30%       64.000000\n",
      "40%       68.000000\n",
      "50%       72.000000\n",
      "60%       74.000000\n",
      "70%       78.000000\n",
      "80%       82.000000\n",
      "90%       88.000000\n",
      "95%       90.000000\n",
      "99%      106.000000\n",
      "max      122.000000\n",
      "Name: BLOODPRESSURE, dtype: float64\n",
      "count    768.000000\n",
      "mean      20.536458\n",
      "std       15.952218\n",
      "min        0.000000\n",
      "5%         0.000000\n",
      "10%        0.000000\n",
      "20%        0.000000\n",
      "30%        8.200000\n",
      "40%       18.000000\n",
      "50%       23.000000\n",
      "60%       27.000000\n",
      "70%       31.000000\n",
      "80%       35.000000\n",
      "90%       40.000000\n",
      "95%       44.000000\n",
      "99%       51.330000\n",
      "max       99.000000\n",
      "Name: SKINTHICKNESS, dtype: float64\n",
      "count    768.000000\n",
      "mean      79.799479\n",
      "std      115.244002\n",
      "min        0.000000\n",
      "5%         0.000000\n",
      "10%        0.000000\n",
      "20%        0.000000\n",
      "30%        0.000000\n",
      "40%        0.000000\n",
      "50%       30.500000\n",
      "60%       72.200000\n",
      "70%      106.000000\n",
      "80%      150.000000\n",
      "90%      210.000000\n",
      "95%      293.000000\n",
      "99%      519.900000\n",
      "max      846.000000\n",
      "Name: INSULIN, dtype: float64\n",
      "count    768.000000\n",
      "mean      31.992578\n",
      "std        7.884160\n",
      "min        0.000000\n",
      "5%        21.800000\n",
      "10%       23.600000\n",
      "20%       25.900000\n",
      "30%       28.200000\n",
      "40%       30.100000\n",
      "50%       32.000000\n",
      "60%       33.700000\n",
      "70%       35.490000\n",
      "80%       37.800000\n",
      "90%       41.500000\n",
      "95%       44.395000\n",
      "99%       50.759000\n",
      "max       67.100000\n",
      "Name: BMI, dtype: float64\n",
      "count    768.000000\n",
      "mean       0.471876\n",
      "std        0.331329\n",
      "min        0.078000\n",
      "5%         0.140350\n",
      "10%        0.165000\n",
      "20%        0.219400\n",
      "30%        0.259000\n",
      "40%        0.302800\n",
      "50%        0.372500\n",
      "60%        0.454200\n",
      "70%        0.563700\n",
      "80%        0.687000\n",
      "90%        0.878600\n",
      "95%        1.132850\n",
      "99%        1.698330\n",
      "max        2.420000\n",
      "Name: DIABETESPEDIGREEFUNCTION, dtype: float64\n",
      "count    768.000000\n",
      "mean      33.240885\n",
      "std       11.760232\n",
      "min       21.000000\n",
      "5%        21.000000\n",
      "10%       22.000000\n",
      "20%       23.000000\n",
      "30%       25.000000\n",
      "40%       27.000000\n",
      "50%       29.000000\n",
      "60%       33.000000\n",
      "70%       38.000000\n",
      "80%       42.600000\n",
      "90%       51.000000\n",
      "95%       58.000000\n",
      "99%       67.000000\n",
      "max       81.000000\n",
      "Name: AGE, dtype: float64\n"
     ]
    }
   ],
   "source": [
    "for col in num_cols:\n",
    "    number(df,col)"
   ]
  },
  {
   "cell_type": "code",
   "execution_count": 76,
   "id": "26a248b8",
   "metadata": {},
   "outputs": [],
   "source": [
    "# Adım 3.2: Kategorik değişkenlerin analizini yapınız.\n",
    "def category(data, col_name):\n",
    "    print(pd.DataFrame({col_name: data[col_name].value_counts(),\n",
    "    'Ratio': 100 * data[col_name].value_counts() / len(data)}))"
   ]
  },
  {
   "cell_type": "code",
   "execution_count": 77,
   "id": "d1875549",
   "metadata": {},
   "outputs": [
    {
     "name": "stdout",
     "output_type": "stream",
     "text": [
      "         OUTCOME      Ratio\n",
      "OUTCOME                    \n",
      "0            500  65.104167\n",
      "1            268  34.895833\n"
     ]
    }
   ],
   "source": [
    "for col in cat_cols:\n",
    "    category(df,col)"
   ]
  },
  {
   "cell_type": "code",
   "execution_count": 78,
   "id": "956d9e42",
   "metadata": {},
   "outputs": [],
   "source": [
    "# Adım 4: Hedef değişken analizi yapınız. (Kategorik değişkenlere göre hedef değişkenin ortalaması, hedef değişkene göre numerik değişkenlerin ortalaması)\n",
    "def target_summary_with_num(dataframe, target, numerical_col):\n",
    "    print(pd.DataFrame(dataframe.groupby(target).agg({numerical_col : [\"mean\", \"std\", \"count\"]})))\n",
    "     "
   ]
  },
  {
   "cell_type": "code",
   "execution_count": 81,
   "id": "8b4a69de",
   "metadata": {},
   "outputs": [
    {
     "name": "stdout",
     "output_type": "stream",
     "text": [
      "        PREGNANCIES                \n",
      "               mean       std count\n",
      "OUTCOME                            \n",
      "0          3.298000  3.017185   500\n",
      "1          4.865672  3.741239   268\n",
      "            GLUCOSE                 \n",
      "               mean        std count\n",
      "OUTCOME                             \n",
      "0        109.980000  26.141200   500\n",
      "1        141.257463  31.939622   268\n",
      "        BLOODPRESSURE                 \n",
      "                 mean        std count\n",
      "OUTCOME                               \n",
      "0           68.184000  18.063075   500\n",
      "1           70.824627  21.491812   268\n",
      "        SKINTHICKNESS                 \n",
      "                 mean        std count\n",
      "OUTCOME                               \n",
      "0           19.664000  14.889947   500\n",
      "1           22.164179  17.679711   268\n",
      "            INSULIN                  \n",
      "               mean         std count\n",
      "OUTCOME                              \n",
      "0         68.792000   98.865289   500\n",
      "1        100.335821  138.689125   268\n",
      "               BMI                \n",
      "              mean       std count\n",
      "OUTCOME                           \n",
      "0        30.304200  7.689855   500\n",
      "1        35.142537  7.262967   268\n",
      "        DIABETESPEDIGREEFUNCTION                \n",
      "                            mean       std count\n",
      "OUTCOME                                         \n",
      "0                       0.429734  0.299085   500\n",
      "1                       0.550500  0.372354   268\n",
      "               AGE                 \n",
      "              mean        std count\n",
      "OUTCOME                            \n",
      "0        31.190000  11.667655   500\n",
      "1        37.067164  10.968254   268\n"
     ]
    }
   ],
   "source": [
    "for col in num_cols:\n",
    "    target_summary_with_num(df, \"OUTCOME\", col)\n"
   ]
  },
  {
   "cell_type": "code",
   "execution_count": 39,
   "id": "68a906ca",
   "metadata": {},
   "outputs": [
    {
     "data": {
      "image/png": "[encoded data removed]",
      "text/plain": [
       "<Figure size 640x480 with 1 Axes>"
      ]
     },
     "metadata": {},
     "output_type": "display_data"
    },
    {
     "data": {
      "image/png": "[encoded data removed]",
      "text/plain": [
       "<Figure size 640x480 with 1 Axes>"
      ]
     },
     "metadata": {},
     "output_type": "display_data"
    },
    {
     "data": {
      "image/png": "[encoded data removed]",
      "text/plain": [
       "<Figure size 640x480 with 1 Axes>"
      ]
     },
     "metadata": {},
     "output_type": "display_data"
    },
    {
     "data": {
      "image/png": "[encoded data removed]",
      "text/plain": [
       "<Figure size 640x480 with 1 Axes>"
      ]
     },
     "metadata": {},
     "output_type": "display_data"
    },
    {
     "data": {
      "image/png": "[encoded data removed]",
      "text/plain": [
       "<Figure size 640x480 with 1 Axes>"
      ]
     },
     "metadata": {},
     "output_type": "display_data"
    },
    {
     "data": {
      "image/png": "[encoded data removed]",
      "text/plain": [
       "<Figure size 640x480 with 1 Axes>"
      ]
     },
     "metadata": {},
     "output_type": "display_data"
    },
    {
     "data": {
      "image/png": "[encoded data removed]",
      "text/plain": [
       "<Figure size 640x480 with 1 Axes>"
      ]
     },
     "metadata": {},
     "output_type": "display_data"
    },
    {
     "data": {
      "image/png": "[encoded data removed]",
      "text/plain": [
       "<Figure size 640x480 with 1 Axes>"
      ]
     },
     "metadata": {},
     "output_type": "display_data"
    }
   ],
   "source": [
    "# Adım 5: Aykırı gözlem analizi yapınız.\n",
    "for col in num_cols:\n",
    "    sns.boxplot(x=df[col])\n",
    "    plt.show(block=True)"
   ]
  },
  {
   "cell_type": "code",
   "execution_count": 40,
   "id": "160fe8f0",
   "metadata": {},
   "outputs": [],
   "source": [
    "# Adım 5: Aykırı gözlem analizi yapınız.\n",
    "def out_liter(data,col_name, q1=0.25, q3=0.75):\n",
    "    query1=data[col_name].quantile(q1)\n",
    "    query3=data[col_name].quantile(q3)\n",
    "    iqr=query3 - query1\n",
    "    low_limit=query1 - 1.5 * iqr\n",
    "    up_limit=query3 + 1.5 * iqr\n",
    "    \n",
    "    return low_limit, up_limit\n"
   ]
  },
  {
   "cell_type": "code",
   "execution_count": 44,
   "id": "a88e7e16",
   "metadata": {},
   "outputs": [
    {
     "name": "stdout",
     "output_type": "stream",
     "text": [
      "PREGNANCIES (-6.5, 13.5)\n",
      "GLUCOSE (37.125, 202.125)\n",
      "BLOODPRESSURE (35.0, 107.0)\n",
      "SKINTHICKNESS (-48.0, 80.0)\n",
      "INSULIN (-190.875, 318.125)\n",
      "BMI (13.35, 50.550000000000004)\n",
      "DIABETESPEDIGREEFUNCTION (-0.32999999999999996, 1.2)\n",
      "AGE (-1.5, 66.5)\n"
     ]
    }
   ],
   "source": [
    "for col in num_cols:\n",
    "    print(col, out_liter(df, col))\n",
    "    "
   ]
  },
  {
   "cell_type": "code",
   "execution_count": 47,
   "id": "5827cc03",
   "metadata": {},
   "outputs": [],
   "source": [
    "def chech(data,col_name):\n",
    "    low_limit,up_limit=out_liter(data,col_name)\n",
    "    if data[(data[col_name] < low_limit) | (data[col_name] > up_limit)].any(axis=None):\n",
    "        return True\n",
    "    else:\n",
    "        return False"
   ]
  },
  {
   "cell_type": "code",
   "execution_count": 48,
   "id": "cd7f51ab",
   "metadata": {},
   "outputs": [
    {
     "name": "stdout",
     "output_type": "stream",
     "text": [
      "PREGNANCIES True\n",
      "GLUCOSE True\n",
      "BLOODPRESSURE True\n",
      "SKINTHICKNESS True\n",
      "INSULIN True\n",
      "BMI True\n",
      "DIABETESPEDIGREEFUNCTION True\n",
      "AGE True\n"
     ]
    }
   ],
   "source": [
    "for col in num_cols:\n",
    "    print(col, chech(df, col))"
   ]
  },
  {
   "cell_type": "code",
   "execution_count": 52,
   "id": "549b2cb3",
   "metadata": {},
   "outputs": [],
   "source": [
    "# Aykiri Deyerlere Erismek\n",
    "def grab_out(data,col_name):\n",
    "    low_limit, up_limit=out_liter(data, col_name)\n",
    "    if data[((data[col_name] < low_limit) | (data[col_name] > up_limit))].shape[0] > 10:\n",
    "        print(data[((data[col_name] < low_limit) | (data[col_name] > up_limit))].head())\n",
    "    \n",
    "    else:\n",
    "        print(data[((data[col_name] < low_limit)| (data[col_name] > up_limit))])\n",
    "    "
   ]
  },
  {
   "cell_type": "code",
   "execution_count": 53,
   "id": "3c88224f",
   "metadata": {},
   "outputs": [
    {
     "name": "stdout",
     "output_type": "stream",
     "text": [
      "     PREGNANCIES  GLUCOSE  BLOODPRESSURE  SKINTHICKNESS  INSULIN   BMI   \n",
      "88            15      136             70             32      110  37.1  \\\n",
      "159           17      163             72             41      114  40.9   \n",
      "298           14      100             78             25      184  36.6   \n",
      "455           14      175             62             30        0  33.6   \n",
      "\n",
      "     DIABETESPEDIGREEFUNCTION  AGE  OUTCOME  \n",
      "88                      0.153   43        1  \n",
      "159                     0.817   47        1  \n",
      "298                     0.412   46        1  \n",
      "455                     0.212   38        1  \n",
      "PREGNANCIES None\n",
      "     PREGNANCIES  GLUCOSE  BLOODPRESSURE  SKINTHICKNESS  INSULIN   BMI   \n",
      "75             1        0             48             20        0  24.7  \\\n",
      "182            1        0             74             20       23  27.7   \n",
      "342            1        0             68             35        0  32.0   \n",
      "349            5        0             80             32        0  41.0   \n",
      "502            6        0             68             41        0  39.0   \n",
      "\n",
      "     DIABETESPEDIGREEFUNCTION  AGE  OUTCOME  \n",
      "75                      0.140   22        0  \n",
      "182                     0.299   21        0  \n",
      "342                     0.389   22        0  \n",
      "349                     0.346   37        1  \n",
      "502                     0.727   41        1  \n",
      "GLUCOSE None\n",
      "    PREGNANCIES  GLUCOSE  BLOODPRESSURE  SKINTHICKNESS  INSULIN   BMI   \n",
      "7            10      115              0              0        0  35.3  \\\n",
      "15            7      100              0              0        0  30.0   \n",
      "18            1      103             30             38       83  43.3   \n",
      "43            9      171            110             24      240  45.4   \n",
      "49            7      105              0              0        0   0.0   \n",
      "\n",
      "    DIABETESPEDIGREEFUNCTION  AGE  OUTCOME  \n",
      "7                      0.134   29        0  \n",
      "15                     0.484   32        1  \n",
      "18                     0.183   33        0  \n",
      "43                     0.721   54        1  \n",
      "49                     0.305   24        0  \n",
      "BLOODPRESSURE None\n",
      "     PREGNANCIES  GLUCOSE  BLOODPRESSURE  SKINTHICKNESS  INSULIN   BMI   \n",
      "579            2      197             70             99        0  34.7  \\\n",
      "\n",
      "     DIABETESPEDIGREEFUNCTION  AGE  OUTCOME  \n",
      "579                     0.575   62        1  \n",
      "SKINTHICKNESS None\n",
      "     PREGNANCIES  GLUCOSE  BLOODPRESSURE  SKINTHICKNESS  INSULIN   BMI   \n",
      "8              2      197             70             45      543  30.5  \\\n",
      "13             1      189             60             23      846  30.1   \n",
      "54             7      150             66             42      342  34.7   \n",
      "111            8      155             62             26      495  34.0   \n",
      "139            5      105             72             29      325  36.9   \n",
      "\n",
      "     DIABETESPEDIGREEFUNCTION  AGE  OUTCOME  \n",
      "8                       0.158   53        1  \n",
      "13                      0.398   59        1  \n",
      "54                      0.718   42        0  \n",
      "111                     0.543   46        1  \n",
      "139                     0.159   28        0  \n",
      "INSULIN None\n",
      "     PREGNANCIES  GLUCOSE  BLOODPRESSURE  SKINTHICKNESS  INSULIN   BMI   \n",
      "9              8      125             96              0        0   0.0  \\\n",
      "49             7      105              0              0        0   0.0   \n",
      "60             2       84              0              0        0   0.0   \n",
      "81             2       74              0              0        0   0.0   \n",
      "120            0      162             76             56      100  53.2   \n",
      "\n",
      "     DIABETESPEDIGREEFUNCTION  AGE  OUTCOME  \n",
      "9                       0.232   54        1  \n",
      "49                      0.305   24        0  \n",
      "60                      0.304   21        0  \n",
      "81                      0.102   22        0  \n",
      "120                     0.759   25        1  \n",
      "BMI None\n",
      "    PREGNANCIES  GLUCOSE  BLOODPRESSURE  SKINTHICKNESS  INSULIN   BMI   \n",
      "4             0      137             40             35      168  43.1  \\\n",
      "12           10      139             80              0        0  27.1   \n",
      "39            4      111             72             47      207  37.1   \n",
      "45            0      180             66             39        0  42.0   \n",
      "58            0      146             82              0        0  40.5   \n",
      "\n",
      "    DIABETESPEDIGREEFUNCTION  AGE  OUTCOME  \n",
      "4                      2.288   33        1  \n",
      "12                     1.441   57        0  \n",
      "39                     1.390   56        1  \n",
      "45                     1.893   25        1  \n",
      "58                     1.781   44        0  \n",
      "DIABETESPEDIGREEFUNCTION None\n",
      "     PREGNANCIES  GLUCOSE  BLOODPRESSURE  SKINTHICKNESS  INSULIN   BMI   \n",
      "123            5      132             80              0        0  26.8  \\\n",
      "363            4      146             78              0        0  38.5   \n",
      "453            2      119              0              0        0  19.6   \n",
      "459            9      134             74             33       60  25.9   \n",
      "489            8      194             80              0        0  26.1   \n",
      "537            0       57             60              0        0  21.7   \n",
      "666            4      145             82             18        0  32.5   \n",
      "674            8       91             82              0        0  35.6   \n",
      "684            5      136             82              0        0   0.0   \n",
      "\n",
      "     DIABETESPEDIGREEFUNCTION  AGE  OUTCOME  \n",
      "123                     0.186   69        0  \n",
      "363                     0.520   67        1  \n",
      "453                     0.832   72        0  \n",
      "459                     0.460   81        0  \n",
      "489                     0.551   67        0  \n",
      "537                     0.735   67        0  \n",
      "666                     0.235   70        1  \n",
      "674                     0.587   68        0  \n",
      "684                     0.640   69        0  \n",
      "AGE None\n"
     ]
    }
   ],
   "source": [
    "for col in num_cols:\n",
    "    print(col, grab_out(df,col))\n",
    "    "
   ]
  },
  {
   "cell_type": "code",
   "execution_count": 86,
   "id": "0e28dc5a",
   "metadata": {},
   "outputs": [],
   "source": [
    "# Adım 6: Eksik gözlem analizi yapınız.\n",
    "def missing_values(data):\n",
    "    na_columns=[col for col in data.columns if data[col].isnull().sum() > 0]\n",
    "    na_sort=data[na_columns].isnull().sum().sort_values(ascending=False)\n",
    "    ratio=(data[na_columns].isnull().sum() / data.shape[0] * 100)\n",
    "    concat=pd.concat([na_sort, np.round(ratio, 2)], axis=1, keys=['eksik_veriler', 'ratio'])\n",
    "    print(concat)\n",
    "    "
   ]
  },
  {
   "cell_type": "code",
   "execution_count": 87,
   "id": "0983e52e",
   "metadata": {},
   "outputs": [
    {
     "name": "stdout",
     "output_type": "stream",
     "text": [
      "Empty DataFrame\n",
      "Columns: [eksik_veriler, ratio]\n",
      "Index: []\n"
     ]
    }
   ],
   "source": [
    "missing_values(df)"
   ]
  }
 ],
 "metadata": {
  "kernelspec": {
   "display_name": "Python 3 (ipykernel)",
   "language": "python",
   "name": "python3"
  },
  "language_info": {
   "codemirror_mode": {
    "name": "ipython",
    "version": 3
   },
   "file_extension": ".py",
   "mimetype": "text/x-python",
   "name": "python",
   "nbconvert_exporter": "python",
   "pygments_lexer": "ipython3",
   "version": "3.9.13"
  }
 },
 "nbformat": 4,
 "nbformat_minor": 5
}
